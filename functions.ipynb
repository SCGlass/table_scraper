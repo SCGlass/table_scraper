{
 "cells": [
  {
   "cell_type": "markdown",
   "metadata": {},
   "source": [
    "## Creating functions from my eda to use within the final scripting"
   ]
  },
  {
   "cell_type": "markdown",
   "metadata": {},
   "source": [
    "### packages"
   ]
  },
  {
   "cell_type": "code",
   "execution_count": 2,
   "metadata": {},
   "outputs": [],
   "source": [
    "import requests\n",
    "import pandas as pd\n",
    "from bs4 import BeautifulSoup"
   ]
  },
  {
   "cell_type": "markdown",
   "metadata": {},
   "source": [
    "### scraping function"
   ]
  },
  {
   "cell_type": "code",
   "execution_count": 8,
   "metadata": {},
   "outputs": [],
   "source": [
    "def scraper(code: str) -> pd.DataFrame:\n",
    "\n",
    "    try:\n",
    "        # fetch HTML content\n",
    "        code = code.lower()\n",
    "        url = f\"https://service.unece.org/trade/locode/{code}.htm\"\n",
    "        r = requests.get(url)\n",
    "        r.raise_for_status()\n",
    "\n",
    "        # Parse the HTML\n",
    "        soup = BeautifulSoup(r.text, 'html.parser')\n",
    "\n",
    "        # Find all tables\n",
    "        tables = soup.find_all('table')\n",
    "\n",
    "        # Extracting table data\n",
    "        data = []\n",
    "        for table in tables:\n",
    "            for row in table.find_all('tr'):\n",
    "                row_data = []\n",
    "                for td in row.find_all('td'):\n",
    "                    row_data.append(td.text.strip())\n",
    "                if row_data:\n",
    "                    data.append(row_data)\n",
    "\n",
    "        # Create the Data Frame\n",
    "        df = pd.DataFrame(data)\n",
    "        print(df)\n",
    "\n",
    "        return df\n",
    "    except Exception as e:\n",
    "        print(f\"An error occured: {e}\")\n",
    "        return pd.DataFrame()\n"
   ]
  },
  {
   "cell_type": "code",
   "execution_count": 11,
   "metadata": {},
   "outputs": [
    {
     "name": "stdout",
     "output_type": "stream",
     "text": [
      "                                                     0               1   \\\n",
      "0                                                        United Nations   \n",
      "1     Code for Trade and Transport Locations  (UN/LO...            None   \n",
      "2                                          (NO)  NORWAY            None   \n",
      "3                                                    Ch          LOCODE   \n",
      "4                                                               NO  AAA   \n",
      "...                                                 ...             ...   \n",
      "1143                                                            NO  VOS   \n",
      "1144                                                            NO  VYG   \n",
      "1145                                                            NO  VRE   \n",
      "1146                                                            NO  YTR   \n",
      "1147                                                            NO  YTO   \n",
      "\n",
      "                2                 3       4         5       6     7     8   \\\n",
      "0             None              None    None      None    None  None  None   \n",
      "1             None              None    None      None    None  None  None   \n",
      "2             None              None    None      None    None  None  None   \n",
      "3             Name  NameWoDiacritics  SubDiv  Function  Status  Date  IATA   \n",
      "4      Å i Lofoten       A i Lofoten      18  1-------      AA  1407         \n",
      "...            ...               ...     ...       ...     ...   ...   ...   \n",
      "1143          Voss              Voss      12  -23-----      AF  9506         \n",
      "1144     Voyenenga         Voyenenga      02  --3-----      RQ  0901         \n",
      "1145       Vrengen           Vrengen      07  --3-----      AA  1401         \n",
      "1146  Ytre Enebakk      Ytre Enebakk      02  --3-----      RL  0901         \n",
      "1147         Ytrøy             Ytroy      14  1-------      AA  1601         \n",
      "\n",
      "                9        10  \n",
      "0             None     None  \n",
      "1             None     None  \n",
      "2             None     None  \n",
      "3      Coordinates  Remarks  \n",
      "4     6753N 01259E           \n",
      "...            ...      ...  \n",
      "1143                         \n",
      "1144  5954N 01028E           \n",
      "1145  5910N 01025E           \n",
      "1146                         \n",
      "1147  6105N 00441E           \n",
      "\n",
      "[1148 rows x 11 columns]\n"
     ]
    }
   ],
   "source": [
    "df = scraper(\"NO\")"
   ]
  },
  {
   "cell_type": "markdown",
   "metadata": {},
   "source": [
    "### Creating processing functions\n",
    "\n",
    "These can be within a class as static methods then can be used within the main.py script"
   ]
  },
  {
   "cell_type": "code",
   "execution_count": 16,
   "metadata": {},
   "outputs": [],
   "source": [
    "from LatLon23 import LatLon\n",
    "import re\n",
    "import pandas as pd"
   ]
  },
  {
   "cell_type": "code",
   "execution_count": 13,
   "metadata": {},
   "outputs": [],
   "source": [
    "def format_table(df:pd.DataFrame) -> pd.DataFrame:\n",
    "    \n",
    "    df = df.drop(df.index[:3], inplace=False)\n",
    "    df.columns= df.iloc[0]\n",
    "    df = df.drop(3)\n",
    "    df.reset_index(drop=True, inplace=True)\n",
    "    \n",
    "    return df"
   ]
  },
  {
   "cell_type": "code",
   "execution_count": 14,
   "metadata": {},
   "outputs": [],
   "source": [
    "df = format_table(df)"
   ]
  },
  {
   "cell_type": "code",
   "execution_count": 15,
   "metadata": {},
   "outputs": [
    {
     "data": {
      "text/html": [
       "<div>\n",
       "<style scoped>\n",
       "    .dataframe tbody tr th:only-of-type {\n",
       "        vertical-align: middle;\n",
       "    }\n",
       "\n",
       "    .dataframe tbody tr th {\n",
       "        vertical-align: top;\n",
       "    }\n",
       "\n",
       "    .dataframe thead th {\n",
       "        text-align: right;\n",
       "    }\n",
       "</style>\n",
       "<table border=\"1\" class=\"dataframe\">\n",
       "  <thead>\n",
       "    <tr style=\"text-align: right;\">\n",
       "      <th>3</th>\n",
       "      <th>Ch</th>\n",
       "      <th>LOCODE</th>\n",
       "      <th>Name</th>\n",
       "      <th>NameWoDiacritics</th>\n",
       "      <th>SubDiv</th>\n",
       "      <th>Function</th>\n",
       "      <th>Status</th>\n",
       "      <th>Date</th>\n",
       "      <th>IATA</th>\n",
       "      <th>Coordinates</th>\n",
       "      <th>Remarks</th>\n",
       "    </tr>\n",
       "  </thead>\n",
       "  <tbody>\n",
       "    <tr>\n",
       "      <th>0</th>\n",
       "      <td></td>\n",
       "      <td>NO  AAA</td>\n",
       "      <td>Å i Lofoten</td>\n",
       "      <td>A i Lofoten</td>\n",
       "      <td>18</td>\n",
       "      <td>1-------</td>\n",
       "      <td>AA</td>\n",
       "      <td>1407</td>\n",
       "      <td></td>\n",
       "      <td>6753N 01259E</td>\n",
       "      <td></td>\n",
       "    </tr>\n",
       "    <tr>\n",
       "      <th>1</th>\n",
       "      <td></td>\n",
       "      <td>NO  ABE</td>\n",
       "      <td>Abelnes</td>\n",
       "      <td>Abelnes</td>\n",
       "      <td>10</td>\n",
       "      <td>1-3-----</td>\n",
       "      <td>AA</td>\n",
       "      <td>1401</td>\n",
       "      <td></td>\n",
       "      <td>5814N 00640E</td>\n",
       "      <td></td>\n",
       "    </tr>\n",
       "    <tr>\n",
       "      <th>2</th>\n",
       "      <td></td>\n",
       "      <td>NO  ABV</td>\n",
       "      <td>Abelvær</td>\n",
       "      <td>Abelvar</td>\n",
       "      <td>17</td>\n",
       "      <td>1-------</td>\n",
       "      <td>AA</td>\n",
       "      <td>1407</td>\n",
       "      <td></td>\n",
       "      <td>6444N 01111E</td>\n",
       "      <td></td>\n",
       "    </tr>\n",
       "    <tr>\n",
       "      <th>3</th>\n",
       "      <td></td>\n",
       "      <td>NO  AAF</td>\n",
       "      <td>Åfjord</td>\n",
       "      <td>Afjord</td>\n",
       "      <td>16</td>\n",
       "      <td>1-------</td>\n",
       "      <td>AI</td>\n",
       "      <td>9704</td>\n",
       "      <td></td>\n",
       "      <td></td>\n",
       "      <td></td>\n",
       "    </tr>\n",
       "    <tr>\n",
       "      <th>4</th>\n",
       "      <td></td>\n",
       "      <td>NO  AGD</td>\n",
       "      <td>Agdenes</td>\n",
       "      <td>Agdenes</td>\n",
       "      <td>16</td>\n",
       "      <td>1-------</td>\n",
       "      <td>AI</td>\n",
       "      <td>9704</td>\n",
       "      <td></td>\n",
       "      <td></td>\n",
       "      <td></td>\n",
       "    </tr>\n",
       "  </tbody>\n",
       "</table>\n",
       "</div>"
      ],
      "text/plain": [
       "3 Ch   LOCODE         Name NameWoDiacritics SubDiv  Function Status  Date  \\\n",
       "0     NO  AAA  Å i Lofoten      A i Lofoten     18  1-------     AA  1407   \n",
       "1     NO  ABE      Abelnes          Abelnes     10  1-3-----     AA  1401   \n",
       "2     NO  ABV      Abelvær          Abelvar     17  1-------     AA  1407   \n",
       "3     NO  AAF       Åfjord           Afjord     16  1-------     AI  9704   \n",
       "4     NO  AGD      Agdenes          Agdenes     16  1-------     AI  9704   \n",
       "\n",
       "3 IATA   Coordinates Remarks  \n",
       "0       6753N 01259E          \n",
       "1       5814N 00640E          \n",
       "2       6444N 01111E          \n",
       "3                             \n",
       "4                             "
      ]
     },
     "execution_count": 15,
     "metadata": {},
     "output_type": "execute_result"
    }
   ],
   "source": [
    "df.head()"
   ]
  },
  {
   "cell_type": "code",
   "execution_count": null,
   "metadata": {},
   "outputs": [],
   "source": []
  }
 ],
 "metadata": {
  "kernelspec": {
   "display_name": "venv",
   "language": "python",
   "name": "python3"
  },
  "language_info": {
   "codemirror_mode": {
    "name": "ipython",
    "version": 3
   },
   "file_extension": ".py",
   "mimetype": "text/x-python",
   "name": "python",
   "nbconvert_exporter": "python",
   "pygments_lexer": "ipython3",
   "version": "3.9.18"
  }
 },
 "nbformat": 4,
 "nbformat_minor": 2
}
