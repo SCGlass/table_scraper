{
 "cells": [
  {
   "cell_type": "markdown",
   "metadata": {},
   "source": [
    "## Creating functions from my eda to use within the final scripting"
   ]
  },
  {
   "cell_type": "markdown",
   "metadata": {},
   "source": [
    "### packages"
   ]
  },
  {
   "cell_type": "code",
   "execution_count": 16,
   "metadata": {},
   "outputs": [],
   "source": [
    "import requests\n",
    "import pandas as pd\n",
    "from bs4 import BeautifulSoup"
   ]
  },
  {
   "cell_type": "markdown",
   "metadata": {},
   "source": [
    "### scraping function"
   ]
  },
  {
   "cell_type": "code",
   "execution_count": 17,
   "metadata": {},
   "outputs": [],
   "source": [
    "def scraper(code: str) -> pd.DataFrame:\n",
    "\n",
    "    try:\n",
    "        # fetch HTML content\n",
    "        code = code.lower()\n",
    "        url = f\"https://service.unece.org/trade/locode/{code}.htm\"\n",
    "        r = requests.get(url)\n",
    "        r.raise_for_status()\n",
    "\n",
    "        # Parse the HTML\n",
    "        soup = BeautifulSoup(r.text, 'html.parser')\n",
    "\n",
    "        # Find all tables\n",
    "        tables = soup.find_all('table')\n",
    "\n",
    "        # Extracting table data\n",
    "        data = []\n",
    "        for table in tables:\n",
    "            for row in table.find_all('tr'):\n",
    "                row_data = []\n",
    "                for td in row.find_all('td'):\n",
    "                    row_data.append(td.text.strip())\n",
    "                if row_data:\n",
    "                    data.append(row_data)\n",
    "\n",
    "        # Create the Data Frame\n",
    "        df = pd.DataFrame(data)\n",
    "        print(df)\n",
    "\n",
    "        return df\n",
    "    except Exception as e:\n",
    "        print(f\"An error occured: {e}\")\n",
    "        return pd.DataFrame()\n"
   ]
  },
  {
   "cell_type": "code",
   "execution_count": 18,
   "metadata": {},
   "outputs": [
    {
     "name": "stdout",
     "output_type": "stream",
     "text": [
      "                                                     0               1   \\\n",
      "0                                                        United Nations   \n",
      "1     Code for Trade and Transport Locations  (UN/LO...            None   \n",
      "2                                          (NO)  NORWAY            None   \n",
      "3                                                    Ch          LOCODE   \n",
      "4                                                               NO  AAA   \n",
      "...                                                 ...             ...   \n",
      "1143                                                            NO  VOS   \n",
      "1144                                                            NO  VYG   \n",
      "1145                                                            NO  VRE   \n",
      "1146                                                            NO  YTR   \n",
      "1147                                                            NO  YTO   \n",
      "\n",
      "                2                 3       4         5       6     7     8   \\\n",
      "0             None              None    None      None    None  None  None   \n",
      "1             None              None    None      None    None  None  None   \n",
      "2             None              None    None      None    None  None  None   \n",
      "3             Name  NameWoDiacritics  SubDiv  Function  Status  Date  IATA   \n",
      "4      Å i Lofoten       A i Lofoten      18  1-------      AA  1407         \n",
      "...            ...               ...     ...       ...     ...   ...   ...   \n",
      "1143          Voss              Voss      12  -23-----      AF  9506         \n",
      "1144     Voyenenga         Voyenenga      02  --3-----      RQ  0901         \n",
      "1145       Vrengen           Vrengen      07  --3-----      AA  1401         \n",
      "1146  Ytre Enebakk      Ytre Enebakk      02  --3-----      RL  0901         \n",
      "1147         Ytrøy             Ytroy      14  1-------      AA  1601         \n",
      "\n",
      "                9        10  \n",
      "0             None     None  \n",
      "1             None     None  \n",
      "2             None     None  \n",
      "3      Coordinates  Remarks  \n",
      "4     6753N 01259E           \n",
      "...            ...      ...  \n",
      "1143                         \n",
      "1144  5954N 01028E           \n",
      "1145  5910N 01025E           \n",
      "1146                         \n",
      "1147  6105N 00441E           \n",
      "\n",
      "[1148 rows x 11 columns]\n"
     ]
    }
   ],
   "source": [
    "df = scraper(\"NO\")"
   ]
  },
  {
   "cell_type": "markdown",
   "metadata": {},
   "source": [
    "### Adapting scraper function so that it can download a using a Dictionary"
   ]
  },
  {
   "cell_type": "code",
   "execution_count": 13,
   "metadata": {},
   "outputs": [],
   "source": [
    "import os\n",
    "import pandas as pd\n",
    "import requests\n",
    "from bs4 import BeautifulSoup\n",
    "from tqdm import tqdm\n",
    "\n",
    "\n",
    "def scrape_and_save_tables(country_dict: dict) -> None:\n",
    "    # Create a folder to store the CSV files\n",
    "    if not os.path.exists(\"raw_country_data\"):\n",
    "        os.makedirs(\"raw_country_data\")\n",
    "    \n",
    "    for country_code, country in tqdm(country_dict.items(), desc=\"Progress\", total=len(country_dict)):\n",
    "        country_code = country_code.lower()\n",
    "        country = country.lower()\n",
    "        url = f\"https://service.unece.org/trade/locode/{country_code}.htm\"\n",
    "        response = requests.get(url)\n",
    "        if response.status_code == 200:\n",
    "            # Parse the HTML\n",
    "            soup = BeautifulSoup(response.text, 'html.parser')\n",
    "            # Find all tables\n",
    "            tables = soup.find_all('table')\n",
    "            if tables:\n",
    "                # Extracting table data\n",
    "                data = []\n",
    "                for table in tables:\n",
    "                    for row in table.find_all('tr'):\n",
    "                        row_data = []\n",
    "                        for td in row.find_all('td'):\n",
    "                            row_data.append(td.text.strip())\n",
    "                        if row_data:\n",
    "                            data.append(row_data)\n",
    "\n",
    "                # Create the Data Frame\n",
    "                df = pd.DataFrame(data)\n",
    "\n",
    "                filename = f\"raw_country_data/{country_code}_{country}.csv\"\n",
    "                df.to_csv(filename, index=False)\n",
    "                print(f\"Table scraped and saved for {country} as {filename}\")\n",
    "            else:\n",
    "                print(f\"No table found for {country}\")\n",
    "        else:\n",
    "            print(f\"Failed to fetch data for {country}\")"
   ]
  },
  {
   "cell_type": "markdown",
   "metadata": {},
   "source": [
    "### Creating processing functions\n",
    "\n",
    "These can be within a class as static methods then can be used within the main.py script"
   ]
  },
  {
   "cell_type": "code",
   "execution_count": 19,
   "metadata": {},
   "outputs": [],
   "source": [
    "from LatLon23 import LatLon\n",
    "import re\n",
    "import pandas as pd"
   ]
  },
  {
   "cell_type": "code",
   "execution_count": 134,
   "metadata": {},
   "outputs": [],
   "source": [
    "df = pd.read_csv(\"src/raw_country_data/no_norway.csv\")"
   ]
  },
  {
   "cell_type": "code",
   "execution_count": 135,
   "metadata": {},
   "outputs": [],
   "source": [
    "def format_table(df: pd.DataFrame) -> pd.DataFrame:\n",
    "    # Drop rows and set columns based on your existing logic\n",
    "    df = df.drop(df.index[:3], inplace=False)\n",
    "    df.columns = df.iloc[0]\n",
    "    df = df.drop(3)\n",
    "    \n",
    "    # Filter rows where 'Function' column contains '1'\n",
    "    df = df[df[\"Function\"].str.contains(\"1\")]\n",
    "    \n",
    "    # Reset index\n",
    "    df.reset_index(drop=True, inplace=True)\n",
    "\n",
    "    # Extract country code and location code from LOCODE column\n",
    "    df[['country_code', 'location_code']] = df['LOCODE'].str.extract(r'^\\s*(\\S+)\\s+(.*)$')\n",
    "    \n",
    "    # Removing columns that are not needed\n",
    "    df = df[df.columns[~df.columns.isin([\"Ch\", \"SubDiv\", \"Function\", \"Date\", \"Remarks\", \"IATA\", \"LOCODE\"])]]\n",
    "\n",
    "    # Reordering the columns\n",
    "    country_code_col = df.pop('country_code')\n",
    "    location_code_col = df.pop('location_code')\n",
    "    df.insert(0, 'country_code', country_code_col)\n",
    "    df.insert(1, 'location_code', location_code_col)\n",
    "    \n",
    "    return df\n"
   ]
  },
  {
   "cell_type": "code",
   "execution_count": 136,
   "metadata": {},
   "outputs": [],
   "source": [
    "df = format_table(df)"
   ]
  },
  {
   "cell_type": "code",
   "execution_count": 137,
   "metadata": {},
   "outputs": [
    {
     "data": {
      "text/html": [
       "<div>\n",
       "<style scoped>\n",
       "    .dataframe tbody tr th:only-of-type {\n",
       "        vertical-align: middle;\n",
       "    }\n",
       "\n",
       "    .dataframe tbody tr th {\n",
       "        vertical-align: top;\n",
       "    }\n",
       "\n",
       "    .dataframe thead th {\n",
       "        text-align: right;\n",
       "    }\n",
       "</style>\n",
       "<table border=\"1\" class=\"dataframe\">\n",
       "  <thead>\n",
       "    <tr style=\"text-align: right;\">\n",
       "      <th>3</th>\n",
       "      <th>country_code</th>\n",
       "      <th>location_code</th>\n",
       "      <th>Name</th>\n",
       "      <th>NameWoDiacritics</th>\n",
       "      <th>Status</th>\n",
       "      <th>Coordinates</th>\n",
       "    </tr>\n",
       "  </thead>\n",
       "  <tbody>\n",
       "    <tr>\n",
       "      <th>0</th>\n",
       "      <td>NO</td>\n",
       "      <td>AAA</td>\n",
       "      <td>Å i Lofoten</td>\n",
       "      <td>A i Lofoten</td>\n",
       "      <td>AA</td>\n",
       "      <td>6753N 01259E</td>\n",
       "    </tr>\n",
       "    <tr>\n",
       "      <th>1</th>\n",
       "      <td>NO</td>\n",
       "      <td>ABE</td>\n",
       "      <td>Abelnes</td>\n",
       "      <td>Abelnes</td>\n",
       "      <td>AA</td>\n",
       "      <td>5814N 00640E</td>\n",
       "    </tr>\n",
       "    <tr>\n",
       "      <th>2</th>\n",
       "      <td>NO</td>\n",
       "      <td>ABV</td>\n",
       "      <td>Abelvær</td>\n",
       "      <td>Abelvar</td>\n",
       "      <td>AA</td>\n",
       "      <td>6444N 01111E</td>\n",
       "    </tr>\n",
       "    <tr>\n",
       "      <th>3</th>\n",
       "      <td>NO</td>\n",
       "      <td>AAF</td>\n",
       "      <td>Åfjord</td>\n",
       "      <td>Afjord</td>\n",
       "      <td>AI</td>\n",
       "      <td>NaN</td>\n",
       "    </tr>\n",
       "    <tr>\n",
       "      <th>4</th>\n",
       "      <td>NO</td>\n",
       "      <td>AGD</td>\n",
       "      <td>Agdenes</td>\n",
       "      <td>Agdenes</td>\n",
       "      <td>AI</td>\n",
       "      <td>NaN</td>\n",
       "    </tr>\n",
       "    <tr>\n",
       "      <th>...</th>\n",
       "      <td>...</td>\n",
       "      <td>...</td>\n",
       "      <td>...</td>\n",
       "      <td>...</td>\n",
       "      <td>...</td>\n",
       "      <td>...</td>\n",
       "    </tr>\n",
       "    <tr>\n",
       "      <th>735</th>\n",
       "      <td>NO</td>\n",
       "      <td>VDL</td>\n",
       "      <td>Vistdal</td>\n",
       "      <td>Vistdal</td>\n",
       "      <td>RQ</td>\n",
       "      <td>6243N 00756E</td>\n",
       "    </tr>\n",
       "    <tr>\n",
       "      <th>736</th>\n",
       "      <td>NO</td>\n",
       "      <td>VDA</td>\n",
       "      <td>Volda</td>\n",
       "      <td>Volda</td>\n",
       "      <td>AA</td>\n",
       "      <td>6208N 00603E</td>\n",
       "    </tr>\n",
       "    <tr>\n",
       "      <th>737</th>\n",
       "      <td>NO</td>\n",
       "      <td>VLL</td>\n",
       "      <td>Voll</td>\n",
       "      <td>Voll</td>\n",
       "      <td>RL</td>\n",
       "      <td>6812N 01341E</td>\n",
       "    </tr>\n",
       "    <tr>\n",
       "      <th>738</th>\n",
       "      <td>NO</td>\n",
       "      <td>SAG</td>\n",
       "      <td>Vormedal</td>\n",
       "      <td>Vormedal</td>\n",
       "      <td>RL</td>\n",
       "      <td>5921N 00519E</td>\n",
       "    </tr>\n",
       "    <tr>\n",
       "      <th>739</th>\n",
       "      <td>NO</td>\n",
       "      <td>YTO</td>\n",
       "      <td>Ytrøy</td>\n",
       "      <td>Ytroy</td>\n",
       "      <td>AA</td>\n",
       "      <td>6105N 00441E</td>\n",
       "    </tr>\n",
       "  </tbody>\n",
       "</table>\n",
       "<p>740 rows × 6 columns</p>\n",
       "</div>"
      ],
      "text/plain": [
       "3   country_code location_code         Name NameWoDiacritics Status  \\\n",
       "0             NO           AAA  Å i Lofoten      A i Lofoten     AA   \n",
       "1             NO           ABE      Abelnes          Abelnes     AA   \n",
       "2             NO           ABV      Abelvær          Abelvar     AA   \n",
       "3             NO           AAF       Åfjord           Afjord     AI   \n",
       "4             NO           AGD      Agdenes          Agdenes     AI   \n",
       "..           ...           ...          ...              ...    ...   \n",
       "735           NO           VDL      Vistdal          Vistdal     RQ   \n",
       "736           NO           VDA        Volda            Volda     AA   \n",
       "737           NO           VLL         Voll             Voll     RL   \n",
       "738           NO           SAG     Vormedal         Vormedal     RL   \n",
       "739           NO           YTO        Ytrøy            Ytroy     AA   \n",
       "\n",
       "3     Coordinates  \n",
       "0    6753N 01259E  \n",
       "1    5814N 00640E  \n",
       "2    6444N 01111E  \n",
       "3             NaN  \n",
       "4             NaN  \n",
       "..            ...  \n",
       "735  6243N 00756E  \n",
       "736  6208N 00603E  \n",
       "737  6812N 01341E  \n",
       "738  5921N 00519E  \n",
       "739  6105N 00441E  \n",
       "\n",
       "[740 rows x 6 columns]"
      ]
     },
     "execution_count": 137,
     "metadata": {},
     "output_type": "execute_result"
    }
   ],
   "source": [
    "df"
   ]
  },
  {
   "cell_type": "code",
   "execution_count": 138,
   "metadata": {},
   "outputs": [
    {
     "name": "stdout",
     "output_type": "stream",
     "text": [
      "<class 'pandas.core.frame.DataFrame'>\n",
      "RangeIndex: 740 entries, 0 to 739\n",
      "Data columns (total 6 columns):\n",
      " #   Column            Non-Null Count  Dtype \n",
      "---  ------            --------------  ----- \n",
      " 0   country_code      740 non-null    object\n",
      " 1   location_code     740 non-null    object\n",
      " 2   Name              740 non-null    object\n",
      " 3   NameWoDiacritics  740 non-null    object\n",
      " 4   Status            738 non-null    object\n",
      " 5   Coordinates       605 non-null    object\n",
      "dtypes: object(6)\n",
      "memory usage: 34.8+ KB\n"
     ]
    }
   ],
   "source": [
    "df.info()"
   ]
  },
  {
   "cell_type": "markdown",
   "metadata": {},
   "source": [
    "## Creating function to convert Coordinates to Lat and Lon"
   ]
  },
  {
   "cell_type": "code",
   "execution_count": 139,
   "metadata": {},
   "outputs": [],
   "source": [
    "from LatLon23 import LatLon\n",
    "import re\n",
    "\n",
    "def parse_coordinate(df: pd.DataFrame) -> pd.DataFrame:\n",
    "    coord_str= df['Coordinates']\n",
    "    def parse(coord_str:str) -> tuple:    \n",
    "        \n",
    "        if coord_str:\n",
    "            pattern = r'(\\d{2})(\\d{2})([NS])\\s*(\\d{3})(\\d{2})([EW])'\n",
    "            match = re.match(pattern, coord_str)\n",
    "            if match:\n",
    "\n",
    "                lat_deg, lat_min, lat_dir, lon_deg, lon_min, lon_dir = match.groups()\n",
    "                lat = int(lat_deg) + int(lat_min) / 60 * (-1 if lat_dir == 'S' else 1)\n",
    "                lon = int(lon_deg) + int(lon_min) / 60 * (-1 if lon_dir == 'W' else 1)\n",
    "                \n",
    "                # Use LatLon23 to convert decimal degrees\n",
    "                latlon = LatLon(lat, lon)\n",
    "                \n",
    "                return latlon.lat.decimal_degree, latlon.lon.decimal_degree\n",
    "            else:\n",
    "                return None, None\n",
    "        else:\n",
    "            return None, None\n",
    "        \n",
    "    df[[\"Latitude\", \"Longitude\"]] = df[\"Coordinates\"].apply(parse).apply(pd.Series)\n",
    "    return df"
   ]
  },
  {
   "cell_type": "code",
   "execution_count": 140,
   "metadata": {},
   "outputs": [
    {
     "ename": "TypeError",
     "evalue": "expected string or bytes-like object",
     "output_type": "error",
     "traceback": [
      "\u001b[0;31m---------------------------------------------------------------------------\u001b[0m",
      "\u001b[0;31mTypeError\u001b[0m                                 Traceback (most recent call last)",
      "Cell \u001b[0;32mIn[140], line 1\u001b[0m\n\u001b[0;32m----> 1\u001b[0m df \u001b[38;5;241m=\u001b[39m \u001b[43mparse_coordinate\u001b[49m\u001b[43m(\u001b[49m\u001b[43mdf\u001b[49m\u001b[43m)\u001b[49m\n",
      "Cell \u001b[0;32mIn[139], line 25\u001b[0m, in \u001b[0;36mparse_coordinate\u001b[0;34m(df)\u001b[0m\n\u001b[1;32m     22\u001b[0m     \u001b[38;5;28;01melse\u001b[39;00m:\n\u001b[1;32m     23\u001b[0m         \u001b[38;5;28;01mreturn\u001b[39;00m \u001b[38;5;28;01mNone\u001b[39;00m, \u001b[38;5;28;01mNone\u001b[39;00m\n\u001b[0;32m---> 25\u001b[0m df[[\u001b[38;5;124m\"\u001b[39m\u001b[38;5;124mLatitude\u001b[39m\u001b[38;5;124m\"\u001b[39m, \u001b[38;5;124m\"\u001b[39m\u001b[38;5;124mLongitude\u001b[39m\u001b[38;5;124m\"\u001b[39m]] \u001b[38;5;241m=\u001b[39m \u001b[43mdf\u001b[49m\u001b[43m[\u001b[49m\u001b[38;5;124;43m\"\u001b[39;49m\u001b[38;5;124;43mCoordinates\u001b[39;49m\u001b[38;5;124;43m\"\u001b[39;49m\u001b[43m]\u001b[49m\u001b[38;5;241;43m.\u001b[39;49m\u001b[43mapply\u001b[49m\u001b[43m(\u001b[49m\u001b[43mparse\u001b[49m\u001b[43m)\u001b[49m\u001b[38;5;241m.\u001b[39mapply(pd\u001b[38;5;241m.\u001b[39mSeries)\n\u001b[1;32m     26\u001b[0m \u001b[38;5;28;01mreturn\u001b[39;00m df\n",
      "File \u001b[0;32m~/Github/LIA/table_scraper/venv/lib/python3.9/site-packages/pandas/core/series.py:4908\u001b[0m, in \u001b[0;36mSeries.apply\u001b[0;34m(self, func, convert_dtype, args, by_row, **kwargs)\u001b[0m\n\u001b[1;32m   4780\u001b[0m \u001b[38;5;28;01mdef\u001b[39;00m \u001b[38;5;21mapply\u001b[39m(\n\u001b[1;32m   4781\u001b[0m     \u001b[38;5;28mself\u001b[39m,\n\u001b[1;32m   4782\u001b[0m     func: AggFuncType,\n\u001b[0;32m   (...)\u001b[0m\n\u001b[1;32m   4787\u001b[0m     \u001b[38;5;241m*\u001b[39m\u001b[38;5;241m*\u001b[39mkwargs,\n\u001b[1;32m   4788\u001b[0m ) \u001b[38;5;241m-\u001b[39m\u001b[38;5;241m>\u001b[39m DataFrame \u001b[38;5;241m|\u001b[39m Series:\n\u001b[1;32m   4789\u001b[0m \u001b[38;5;250m    \u001b[39m\u001b[38;5;124;03m\"\"\"\u001b[39;00m\n\u001b[1;32m   4790\u001b[0m \u001b[38;5;124;03m    Invoke function on values of Series.\u001b[39;00m\n\u001b[1;32m   4791\u001b[0m \n\u001b[0;32m   (...)\u001b[0m\n\u001b[1;32m   4906\u001b[0m \u001b[38;5;124;03m    dtype: float64\u001b[39;00m\n\u001b[1;32m   4907\u001b[0m \u001b[38;5;124;03m    \"\"\"\u001b[39;00m\n\u001b[0;32m-> 4908\u001b[0m     \u001b[38;5;28;01mreturn\u001b[39;00m \u001b[43mSeriesApply\u001b[49m\u001b[43m(\u001b[49m\n\u001b[1;32m   4909\u001b[0m \u001b[43m        \u001b[49m\u001b[38;5;28;43mself\u001b[39;49m\u001b[43m,\u001b[49m\n\u001b[1;32m   4910\u001b[0m \u001b[43m        \u001b[49m\u001b[43mfunc\u001b[49m\u001b[43m,\u001b[49m\n\u001b[1;32m   4911\u001b[0m \u001b[43m        \u001b[49m\u001b[43mconvert_dtype\u001b[49m\u001b[38;5;241;43m=\u001b[39;49m\u001b[43mconvert_dtype\u001b[49m\u001b[43m,\u001b[49m\n\u001b[1;32m   4912\u001b[0m \u001b[43m        \u001b[49m\u001b[43mby_row\u001b[49m\u001b[38;5;241;43m=\u001b[39;49m\u001b[43mby_row\u001b[49m\u001b[43m,\u001b[49m\n\u001b[1;32m   4913\u001b[0m \u001b[43m        \u001b[49m\u001b[43margs\u001b[49m\u001b[38;5;241;43m=\u001b[39;49m\u001b[43margs\u001b[49m\u001b[43m,\u001b[49m\n\u001b[1;32m   4914\u001b[0m \u001b[43m        \u001b[49m\u001b[43mkwargs\u001b[49m\u001b[38;5;241;43m=\u001b[39;49m\u001b[43mkwargs\u001b[49m\u001b[43m,\u001b[49m\n\u001b[1;32m   4915\u001b[0m \u001b[43m    \u001b[49m\u001b[43m)\u001b[49m\u001b[38;5;241;43m.\u001b[39;49m\u001b[43mapply\u001b[49m\u001b[43m(\u001b[49m\u001b[43m)\u001b[49m\n",
      "File \u001b[0;32m~/Github/LIA/table_scraper/venv/lib/python3.9/site-packages/pandas/core/apply.py:1427\u001b[0m, in \u001b[0;36mSeriesApply.apply\u001b[0;34m(self)\u001b[0m\n\u001b[1;32m   1424\u001b[0m     \u001b[38;5;28;01mreturn\u001b[39;00m \u001b[38;5;28mself\u001b[39m\u001b[38;5;241m.\u001b[39mapply_compat()\n\u001b[1;32m   1426\u001b[0m \u001b[38;5;66;03m# self.func is Callable\u001b[39;00m\n\u001b[0;32m-> 1427\u001b[0m \u001b[38;5;28;01mreturn\u001b[39;00m \u001b[38;5;28;43mself\u001b[39;49m\u001b[38;5;241;43m.\u001b[39;49m\u001b[43mapply_standard\u001b[49m\u001b[43m(\u001b[49m\u001b[43m)\u001b[49m\n",
      "File \u001b[0;32m~/Github/LIA/table_scraper/venv/lib/python3.9/site-packages/pandas/core/apply.py:1507\u001b[0m, in \u001b[0;36mSeriesApply.apply_standard\u001b[0;34m(self)\u001b[0m\n\u001b[1;32m   1501\u001b[0m \u001b[38;5;66;03m# row-wise access\u001b[39;00m\n\u001b[1;32m   1502\u001b[0m \u001b[38;5;66;03m# apply doesn't have a `na_action` keyword and for backward compat reasons\u001b[39;00m\n\u001b[1;32m   1503\u001b[0m \u001b[38;5;66;03m# we need to give `na_action=\"ignore\"` for categorical data.\u001b[39;00m\n\u001b[1;32m   1504\u001b[0m \u001b[38;5;66;03m# TODO: remove the `na_action=\"ignore\"` when that default has been changed in\u001b[39;00m\n\u001b[1;32m   1505\u001b[0m \u001b[38;5;66;03m#  Categorical (GH51645).\u001b[39;00m\n\u001b[1;32m   1506\u001b[0m action \u001b[38;5;241m=\u001b[39m \u001b[38;5;124m\"\u001b[39m\u001b[38;5;124mignore\u001b[39m\u001b[38;5;124m\"\u001b[39m \u001b[38;5;28;01mif\u001b[39;00m \u001b[38;5;28misinstance\u001b[39m(obj\u001b[38;5;241m.\u001b[39mdtype, CategoricalDtype) \u001b[38;5;28;01melse\u001b[39;00m \u001b[38;5;28;01mNone\u001b[39;00m\n\u001b[0;32m-> 1507\u001b[0m mapped \u001b[38;5;241m=\u001b[39m \u001b[43mobj\u001b[49m\u001b[38;5;241;43m.\u001b[39;49m\u001b[43m_map_values\u001b[49m\u001b[43m(\u001b[49m\n\u001b[1;32m   1508\u001b[0m \u001b[43m    \u001b[49m\u001b[43mmapper\u001b[49m\u001b[38;5;241;43m=\u001b[39;49m\u001b[43mcurried\u001b[49m\u001b[43m,\u001b[49m\u001b[43m \u001b[49m\u001b[43mna_action\u001b[49m\u001b[38;5;241;43m=\u001b[39;49m\u001b[43maction\u001b[49m\u001b[43m,\u001b[49m\u001b[43m \u001b[49m\u001b[43mconvert\u001b[49m\u001b[38;5;241;43m=\u001b[39;49m\u001b[38;5;28;43mself\u001b[39;49m\u001b[38;5;241;43m.\u001b[39;49m\u001b[43mconvert_dtype\u001b[49m\n\u001b[1;32m   1509\u001b[0m \u001b[43m\u001b[49m\u001b[43m)\u001b[49m\n\u001b[1;32m   1511\u001b[0m \u001b[38;5;28;01mif\u001b[39;00m \u001b[38;5;28mlen\u001b[39m(mapped) \u001b[38;5;129;01mand\u001b[39;00m \u001b[38;5;28misinstance\u001b[39m(mapped[\u001b[38;5;241m0\u001b[39m], ABCSeries):\n\u001b[1;32m   1512\u001b[0m     \u001b[38;5;66;03m# GH#43986 Need to do list(mapped) in order to get treated as nested\u001b[39;00m\n\u001b[1;32m   1513\u001b[0m     \u001b[38;5;66;03m#  See also GH#25959 regarding EA support\u001b[39;00m\n\u001b[1;32m   1514\u001b[0m     \u001b[38;5;28;01mreturn\u001b[39;00m obj\u001b[38;5;241m.\u001b[39m_constructor_expanddim(\u001b[38;5;28mlist\u001b[39m(mapped), index\u001b[38;5;241m=\u001b[39mobj\u001b[38;5;241m.\u001b[39mindex)\n",
      "File \u001b[0;32m~/Github/LIA/table_scraper/venv/lib/python3.9/site-packages/pandas/core/base.py:921\u001b[0m, in \u001b[0;36mIndexOpsMixin._map_values\u001b[0;34m(self, mapper, na_action, convert)\u001b[0m\n\u001b[1;32m    918\u001b[0m \u001b[38;5;28;01mif\u001b[39;00m \u001b[38;5;28misinstance\u001b[39m(arr, ExtensionArray):\n\u001b[1;32m    919\u001b[0m     \u001b[38;5;28;01mreturn\u001b[39;00m arr\u001b[38;5;241m.\u001b[39mmap(mapper, na_action\u001b[38;5;241m=\u001b[39mna_action)\n\u001b[0;32m--> 921\u001b[0m \u001b[38;5;28;01mreturn\u001b[39;00m \u001b[43malgorithms\u001b[49m\u001b[38;5;241;43m.\u001b[39;49m\u001b[43mmap_array\u001b[49m\u001b[43m(\u001b[49m\u001b[43marr\u001b[49m\u001b[43m,\u001b[49m\u001b[43m \u001b[49m\u001b[43mmapper\u001b[49m\u001b[43m,\u001b[49m\u001b[43m \u001b[49m\u001b[43mna_action\u001b[49m\u001b[38;5;241;43m=\u001b[39;49m\u001b[43mna_action\u001b[49m\u001b[43m,\u001b[49m\u001b[43m \u001b[49m\u001b[43mconvert\u001b[49m\u001b[38;5;241;43m=\u001b[39;49m\u001b[43mconvert\u001b[49m\u001b[43m)\u001b[49m\n",
      "File \u001b[0;32m~/Github/LIA/table_scraper/venv/lib/python3.9/site-packages/pandas/core/algorithms.py:1743\u001b[0m, in \u001b[0;36mmap_array\u001b[0;34m(arr, mapper, na_action, convert)\u001b[0m\n\u001b[1;32m   1741\u001b[0m values \u001b[38;5;241m=\u001b[39m arr\u001b[38;5;241m.\u001b[39mastype(\u001b[38;5;28mobject\u001b[39m, copy\u001b[38;5;241m=\u001b[39m\u001b[38;5;28;01mFalse\u001b[39;00m)\n\u001b[1;32m   1742\u001b[0m \u001b[38;5;28;01mif\u001b[39;00m na_action \u001b[38;5;129;01mis\u001b[39;00m \u001b[38;5;28;01mNone\u001b[39;00m:\n\u001b[0;32m-> 1743\u001b[0m     \u001b[38;5;28;01mreturn\u001b[39;00m \u001b[43mlib\u001b[49m\u001b[38;5;241;43m.\u001b[39;49m\u001b[43mmap_infer\u001b[49m\u001b[43m(\u001b[49m\u001b[43mvalues\u001b[49m\u001b[43m,\u001b[49m\u001b[43m \u001b[49m\u001b[43mmapper\u001b[49m\u001b[43m,\u001b[49m\u001b[43m \u001b[49m\u001b[43mconvert\u001b[49m\u001b[38;5;241;43m=\u001b[39;49m\u001b[43mconvert\u001b[49m\u001b[43m)\u001b[49m\n\u001b[1;32m   1744\u001b[0m \u001b[38;5;28;01melse\u001b[39;00m:\n\u001b[1;32m   1745\u001b[0m     \u001b[38;5;28;01mreturn\u001b[39;00m lib\u001b[38;5;241m.\u001b[39mmap_infer_mask(\n\u001b[1;32m   1746\u001b[0m         values, mapper, mask\u001b[38;5;241m=\u001b[39misna(values)\u001b[38;5;241m.\u001b[39mview(np\u001b[38;5;241m.\u001b[39muint8), convert\u001b[38;5;241m=\u001b[39mconvert\n\u001b[1;32m   1747\u001b[0m     )\n",
      "File \u001b[0;32mlib.pyx:2972\u001b[0m, in \u001b[0;36mpandas._libs.lib.map_infer\u001b[0;34m()\u001b[0m\n",
      "Cell \u001b[0;32mIn[139], line 9\u001b[0m, in \u001b[0;36mparse_coordinate.<locals>.parse\u001b[0;34m(coord_str)\u001b[0m\n\u001b[1;32m      7\u001b[0m \u001b[38;5;28;01mif\u001b[39;00m coord_str:\n\u001b[1;32m      8\u001b[0m     pattern \u001b[38;5;241m=\u001b[39m \u001b[38;5;124mr\u001b[39m\u001b[38;5;124m'\u001b[39m\u001b[38;5;124m(\u001b[39m\u001b[38;5;124m\\\u001b[39m\u001b[38;5;124md\u001b[39m\u001b[38;5;132;01m{2}\u001b[39;00m\u001b[38;5;124m)(\u001b[39m\u001b[38;5;124m\\\u001b[39m\u001b[38;5;124md\u001b[39m\u001b[38;5;132;01m{2}\u001b[39;00m\u001b[38;5;124m)([NS])\u001b[39m\u001b[38;5;124m\\\u001b[39m\u001b[38;5;124ms*(\u001b[39m\u001b[38;5;124m\\\u001b[39m\u001b[38;5;124md\u001b[39m\u001b[38;5;132;01m{3}\u001b[39;00m\u001b[38;5;124m)(\u001b[39m\u001b[38;5;124m\\\u001b[39m\u001b[38;5;124md\u001b[39m\u001b[38;5;132;01m{2}\u001b[39;00m\u001b[38;5;124m)([EW])\u001b[39m\u001b[38;5;124m'\u001b[39m\n\u001b[0;32m----> 9\u001b[0m     match \u001b[38;5;241m=\u001b[39m \u001b[43mre\u001b[49m\u001b[38;5;241;43m.\u001b[39;49m\u001b[43mmatch\u001b[49m\u001b[43m(\u001b[49m\u001b[43mpattern\u001b[49m\u001b[43m,\u001b[49m\u001b[43m \u001b[49m\u001b[43mcoord_str\u001b[49m\u001b[43m)\u001b[49m\n\u001b[1;32m     10\u001b[0m     \u001b[38;5;28;01mif\u001b[39;00m match:\n\u001b[1;32m     12\u001b[0m         lat_deg, lat_min, lat_dir, lon_deg, lon_min, lon_dir \u001b[38;5;241m=\u001b[39m match\u001b[38;5;241m.\u001b[39mgroups()\n",
      "File \u001b[0;32m/usr/lib/python3.9/re.py:191\u001b[0m, in \u001b[0;36mmatch\u001b[0;34m(pattern, string, flags)\u001b[0m\n\u001b[1;32m    188\u001b[0m \u001b[38;5;28;01mdef\u001b[39;00m \u001b[38;5;21mmatch\u001b[39m(pattern, string, flags\u001b[38;5;241m=\u001b[39m\u001b[38;5;241m0\u001b[39m):\n\u001b[1;32m    189\u001b[0m \u001b[38;5;250m    \u001b[39m\u001b[38;5;124;03m\"\"\"Try to apply the pattern at the start of the string, returning\u001b[39;00m\n\u001b[1;32m    190\u001b[0m \u001b[38;5;124;03m    a Match object, or None if no match was found.\"\"\"\u001b[39;00m\n\u001b[0;32m--> 191\u001b[0m     \u001b[38;5;28;01mreturn\u001b[39;00m \u001b[43m_compile\u001b[49m\u001b[43m(\u001b[49m\u001b[43mpattern\u001b[49m\u001b[43m,\u001b[49m\u001b[43m \u001b[49m\u001b[43mflags\u001b[49m\u001b[43m)\u001b[49m\u001b[38;5;241;43m.\u001b[39;49m\u001b[43mmatch\u001b[49m\u001b[43m(\u001b[49m\u001b[43mstring\u001b[49m\u001b[43m)\u001b[49m\n",
      "\u001b[0;31mTypeError\u001b[0m: expected string or bytes-like object"
     ]
    }
   ],
   "source": [
    "df = parse_coordinate(df)"
   ]
  }
 ],
 "metadata": {
  "kernelspec": {
   "display_name": "venv",
   "language": "python",
   "name": "python3"
  },
  "language_info": {
   "codemirror_mode": {
    "name": "ipython",
    "version": 3
   },
   "file_extension": ".py",
   "mimetype": "text/x-python",
   "name": "python",
   "nbconvert_exporter": "python",
   "pygments_lexer": "ipython3",
   "version": "3.9.18"
  }
 },
 "nbformat": 4,
 "nbformat_minor": 2
}
