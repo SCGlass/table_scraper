{
 "cells": [
  {
   "cell_type": "code",
   "execution_count": 8,
   "metadata": {},
   "outputs": [],
   "source": [
    "import pandas as pd\n",
    "\n",
    "df_test = pd.read_csv(\"src/cleaned_port_data/DE_Germany.csv\")"
   ]
  },
  {
   "cell_type": "code",
   "execution_count": 10,
   "metadata": {},
   "outputs": [
    {
     "name": "stdout",
     "output_type": "stream",
     "text": [
      "<class 'pandas.core.frame.DataFrame'>\n",
      "RangeIndex: 875 entries, 0 to 874\n",
      "Data columns (total 7 columns):\n",
      " #   Column            Non-Null Count  Dtype  \n",
      "---  ------            --------------  -----  \n",
      " 0   Country_code      875 non-null    object \n",
      " 1   Location_code     875 non-null    object \n",
      " 2   Name              875 non-null    object \n",
      " 3   NameWoDiacritics  875 non-null    object \n",
      " 4   Status            875 non-null    object \n",
      " 5   Latitude          869 non-null    float64\n",
      " 6   Longitude         869 non-null    float64\n",
      "dtypes: float64(2), object(5)\n",
      "memory usage: 48.0+ KB\n"
     ]
    }
   ],
   "source": [
    "df_test.info()"
   ]
  },
  {
   "cell_type": "code",
   "execution_count": 9,
   "metadata": {},
   "outputs": [
    {
     "name": "stderr",
     "output_type": "stream",
     "text": [
      "/home/scglass/Github/LIA/table_scraper/venv/lib/python3.9/site-packages/jupyter_client/session.py:721: UserWarning: Message serialization failed with:\n",
      "Out of range float values are not JSON compliant\n",
      "Supporting this message is deprecated in jupyter-client 7, please make sure your message is JSON-compliant\n",
      "  content = self.pack(content)\n"
     ]
    },
    {
     "data": {
      "application/vnd.jupyter.widget-view+json": {
       "model_id": "8ea6d2f6eda14b95817ba243b150ac2e",
       "version_major": 2,
       "version_minor": 0
      },
      "text/plain": [
       "Map(center=[51.50775264672036, 10.187553737629461], controls=(ZoomControl(options=['position', 'zoom_in_text',…"
      ]
     },
     "execution_count": 9,
     "metadata": {},
     "output_type": "execute_result"
    }
   ],
   "source": [
    "from ipyleaflet import Map, basemaps, Marker, Popup\n",
    "from ipywidgets import HTML\n",
    "import numpy as np\n",
    "\n",
    "valid_lat = df_test[\"Latitude\"].dropna()\n",
    "valid_long = df_test[\"Longitude\"].dropna()\n",
    "\n",
    "average_latitude = np.nanmean(valid_lat)\n",
    "average_longitude = np.nanmean(valid_long)\n",
    "\n",
    "center = (average_latitude, average_longitude)\n",
    "zoom = 4\n",
    "\n",
    "m = Map(basemap=basemaps.Esri.WorldStreetMap, center=center, zoom=zoom, scroll_wheel_zoom=True)\n",
    "\n",
    "for index, row in df_test.iterrows():\n",
    "    marker = Marker(location=(row[\"Latitude\"], row[\"Longitude\"]), draggable=False)\n",
    "    popup_content = \"<b>{}</b><br>Latitude: {:.6f}<br>Longitude: {:.6f}\".format(row['Name'], row['Latitude'], row['Longitude'])\n",
    "    html = HTML(value=popup_content)\n",
    "    popup = Popup(\n",
    "        location=(row[\"Latitude\"], row[\"Longitude\"]),\n",
    "        child=html\n",
    "    )\n",
    "    marker.popup = popup\n",
    "    m.add_layer(marker)\n",
    "\n",
    "m\n"
   ]
  }
 ],
 "metadata": {
  "kernelspec": {
   "display_name": "venv",
   "language": "python",
   "name": "python3"
  },
  "language_info": {
   "codemirror_mode": {
    "name": "ipython",
    "version": 3
   },
   "file_extension": ".py",
   "mimetype": "text/x-python",
   "name": "python",
   "nbconvert_exporter": "python",
   "pygments_lexer": "ipython3",
   "version": "3.9.18"
  }
 },
 "nbformat": 4,
 "nbformat_minor": 2
}
